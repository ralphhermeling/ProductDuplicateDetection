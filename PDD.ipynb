{
  "nbformat": 4,
  "nbformat_minor": 0,
  "metadata": {
    "colab": {
      "name": "PDD",
      "provenance": [],
      "collapsed_sections": [
        "q5qVmr2ig_Pk",
        "9E-Wk5KfPnIz"
      ],
      "toc_visible": true
    },
    "kernelspec": {
      "name": "python3",
      "display_name": "Python 3"
    },
    "language_info": {
      "name": "python"
    }
  },
  "cells": [
    {
      "cell_type": "markdown",
      "metadata": {
        "id": "AWJ-qnPt6pSC"
      },
      "source": [
        "#Data "
      ]
    },
    {
      "cell_type": "code",
      "metadata": {
        "id": "WvblRBrHeodI"
      },
      "source": [
        "#Import data\n",
        "import json\n",
        "import pandas as pd\n",
        "import re\n",
        "import string\n",
        "from operator import attrgetter\n",
        "import numpy as np\n",
        "import copy\n",
        "from itertools import combinations, product\n",
        "import random\n",
        "from scipy.special import binom\n",
        "with open('/content/drive/MyDrive/Colab Notebooks/Data/Computer Science for Business Analytics/TVs-all-merged.json') as json_file:\n",
        "    data = json.load(json_file)\n"
      ],
      "execution_count": null,
      "outputs": []
    },
    {
      "cell_type": "markdown",
      "metadata": {
        "id": "Bq4SL6oK0P8j"
      },
      "source": [
        "##Data cleaning & Feature Engineering"
      ]
    },
    {
      "cell_type": "code",
      "metadata": {
        "id": "Nip0xI4b0RDr"
      },
      "source": [
        "# pre-process the product descriptions by removing all common characters like comma’s, slashes, and white space and lowercase.\n",
        "def preProcessTV(TV):\n",
        "  newTV = TV.copy()\n",
        "  title = TV['title']\n",
        "  featuresMap = TV['featuresMap']\n",
        "  \n",
        "  # Remove shop from title\n",
        "  title = preProcessTitle(title)\n",
        "  newTV['title'] = title\n",
        "\n",
        "  featuresMap = {preProcess(k): preProcess(transformPR(v)) for k,v in featuresMap.items()}\n",
        "  newTV['featuresMap'] = featuresMap\n",
        "  return newTV\n",
        "\n",
        "def preProcessTitle(title: str):\n",
        "  mappingSellers = [('Best Buy',''),('Newegg.com','')]\n",
        "  modelWordsAfterSellerTrans = transformFrequentRepresentations(mappingSellers, title)\n",
        "  title = transformPR(modelWordsAfterSellerTrans)\n",
        "  title = preProcess(title)\n",
        "\n",
        "  return title\n",
        "\n",
        "def transformFrequentRepresentations(mapping, my_string):\n",
        "  for k, v in mapping:\n",
        "    my_string = my_string.replace(k, v)\n",
        "  return my_string\n",
        "\n",
        "def transformPR(string: str):\n",
        "  mappingInch = [('Inch', 'inch'), ('inches', 'inch'), ('\"', 'inch'), (' inch', 'inch'), ('-inch', 'inch'),('inch','')]\n",
        "  mappingHertz = [('Hertz', 'hz'), ('hertz', 'hz'), ('HZ', 'hz'), ('-hz', 'hz'),('hz','')]\n",
        "\n",
        "  valueAfterInchTransformation = transformFrequentRepresentations(mappingInch, string)\n",
        "  valueAfterHertzTransformation = transformFrequentRepresentations(mappingHertz, valueAfterInchTransformation)\n",
        "  return valueAfterHertzTransformation\n",
        "\n",
        "def preProcess(text: str):\n",
        "  textLowered = text.lower()\n",
        "  mappingUselessWords = [('refurbished',''),('refurb',''),('open box',''),('diagonal',''),('diag',''),('class',''),('model','')]\n",
        "  text = transformFrequentRepresentations(mappingUselessWords, textLowered)\n",
        "  text = valueWithoutExtraSpaces = re.sub('\\s{2,}',\" \",text)\n",
        "  textWithoutNonAlphanumericTokens = re.sub('[\\W]','',text)\n",
        "  return textWithoutNonAlphanumericTokens\n"
      ],
      "execution_count": null,
      "outputs": []
    },
    {
      "cell_type": "code",
      "source": [
        "title = train['TVs'][0]['title']\n",
        "print(title)\n",
        "print(re.sub('[\\W]','',title))"
      ],
      "metadata": {
        "colab": {
          "base_uri": "https://localhost:8080/"
        },
        "id": "UHmc-TUmyrpB",
        "outputId": "e5dfb377-f048-4521-9920-a2dea6465634"
      },
      "execution_count": null,
      "outputs": [
        {
          "output_type": "stream",
          "name": "stdout",
          "text": [
            "toshibag310series555458lcd1080p120hzhdtvtos55g310ubx\n",
            "toshibag310series555458lcd1080p120hzhdtvtos55g310ubx\n"
          ]
        }
      ]
    },
    {
      "cell_type": "markdown",
      "metadata": {
        "id": "4B3txUQ_SDNj"
      },
      "source": [
        "##Train and test data"
      ]
    },
    {
      "cell_type": "code",
      "metadata": {
        "id": "LTUwYLnwQTa0"
      },
      "source": [
        "def getTrainAndTestData(data, trainingSplit):\n",
        "  tvIDs = data.keys()\n",
        "  \n",
        "  totalUniqueTVs = len(data.keys())\n",
        "  trainingIDs = getModelIDsForTrain(data, trainingSplit)\n",
        "  testingIDs = list(set(tvIDs).difference(set(trainingIDs)))\n",
        "\n",
        "  train = getDataSplitWithModelIDs(data, trainingIDs)\n",
        "  # test = getDataSplitWithModelIDs(data, testingIDs)\n",
        "  test ={}\n",
        "  return (train, test)\n",
        "\n",
        "def getModelIDsForTrain(data, trainingSplit):\n",
        "  tvIDs = data.keys()\n",
        "  numberOfTVs = np.sum([ 1 for ModelID in tvIDs for TV in data[ModelID]])\n",
        "\n",
        "  trainingSizeTarg = int(numberOfTVs * trainingSplit)\n",
        "  trainingSizeCurr = 0\n",
        "  trainingIDs = []\n",
        "\n",
        "  while(trainingSizeCurr <= trainingSizeTarg):\n",
        "    ModelID = random.choice(list(tvIDs))\n",
        "    TVContainer = data[ModelID]\n",
        "    trainingIDs.append(ModelID)\n",
        "    for TV in TVContainer:\n",
        "      trainingSizeCurr +=1\n",
        "  return trainingIDs\n",
        "\n",
        "def getDataSplitWithModelIDs(data, modelIDs: list):\n",
        "  dataSplit = {\n",
        "      'TVs': [],\n",
        "      'duplicates': []\n",
        "  }\n",
        "\n",
        "  TVCounter = 0\n",
        "  s = []\n",
        "  for idx, modelId in enumerate(modelIDs):\n",
        "    TVs = dataSplit['TVs']\n",
        "    duplicates = dataSplit['duplicates']\n",
        "      \n",
        "    currentTVContainer = data[modelId]\n",
        "    idxOfTVsInContainer = []\n",
        "    # print(len(currentTVContainer))\n",
        "    for TV in currentTVContainer:\n",
        "      \n",
        "      s.append(TV)\n",
        "      CleanTV = preProcessTV(TV)\n",
        "      TVs.append(CleanTV.copy()) \n",
        "\n",
        "      idxOfTVsInContainer.append(TVCounter)\n",
        "      TVCounter +=1\n",
        "\n",
        "    # Saving real duplicates \n",
        "    if(len(idxOfTVsInContainer) > 1):\n",
        "      duplicates.extend(combinations(idxOfTVsInContainer,2))\n",
        "    # print(idxOfTVsInContainer)\n",
        "    # print('\\n')\n",
        "  print(len(s))\n",
        "  \n",
        "\n",
        "  return dataSplit\n",
        "\n",
        "\n",
        "\n"
      ],
      "execution_count": null,
      "outputs": []
    },
    {
      "cell_type": "markdown",
      "metadata": {
        "id": "9E-Wk5KfPnIz"
      },
      "source": [
        "###Testing"
      ]
    },
    {
      "cell_type": "code",
      "metadata": {
        "id": "tdvgO_MaLzCP",
        "colab": {
          "base_uri": "https://localhost:8080/",
          "height": 165
        },
        "outputId": "77eee7e7-8d79-4425-b8c1-06173cb18d14"
      },
      "source": [
        "train = getDataSplitWithModelIDs(data, trainingIDs)"
      ],
      "execution_count": null,
      "outputs": [
        {
          "output_type": "error",
          "ename": "NameError",
          "evalue": "ignored",
          "traceback": [
            "\u001b[0;31m---------------------------------------------------------------------------\u001b[0m",
            "\u001b[0;31mNameError\u001b[0m                                 Traceback (most recent call last)",
            "\u001b[0;32m<ipython-input-241-bccbb90e97f0>\u001b[0m in \u001b[0;36m<module>\u001b[0;34m()\u001b[0m\n\u001b[0;32m----> 1\u001b[0;31m \u001b[0mtrain\u001b[0m \u001b[0;34m=\u001b[0m \u001b[0mgetDataSplitWithModelIDs\u001b[0m\u001b[0;34m(\u001b[0m\u001b[0mdata\u001b[0m\u001b[0;34m,\u001b[0m \u001b[0mtrainingIDs\u001b[0m\u001b[0;34m)\u001b[0m\u001b[0;34m\u001b[0m\u001b[0;34m\u001b[0m\u001b[0m\n\u001b[0m",
            "\u001b[0;31mNameError\u001b[0m: name 'trainingIDs' is not defined"
          ]
        }
      ]
    },
    {
      "cell_type": "code",
      "metadata": {
        "id": "4RNql8S3Qu_j",
        "colab": {
          "base_uri": "https://localhost:8080/"
        },
        "outputId": "93104158-0c5b-4dd1-afa3-df7f1af2af89"
      },
      "source": [
        "train, test = getTrainAndTestData(data, 0.7)"
      ],
      "execution_count": null,
      "outputs": [
        {
          "output_type": "stream",
          "name": "stdout",
          "text": [
            "1137\n"
          ]
        }
      ]
    },
    {
      "cell_type": "code",
      "source": [
        "train['TVs'][1136]"
      ],
      "metadata": {
        "colab": {
          "base_uri": "https://localhost:8080/"
        },
        "id": "jjSahjFTowUN",
        "outputId": "8ec67e9d-3f1d-4c84-9159-89610d51da44"
      },
      "execution_count": null,
      "outputs": [
        {
          "output_type": "execute_result",
          "data": {
            "text/plain": [
              "{'featuresMap': {'brand': 'samsung',\n",
              "  'cabinet color': 'black',\n",
              "  'component video': '1 in',\n",
              "  'composite av': '1 in',\n",
              "  'digital audio': '1 optical out',\n",
              "  'dimensions with stand': '49.3 x 31.8 x 10.9 (w x h x d)',\n",
              "  'dimensions without stand': '49.3 x 29.0 x 1.8(w x h x d)',\n",
              "  'dynamic contrast ratio': '5,500,000:1',\n",
              "  'energy star compliant': 'yes',\n",
              "  'enhanced motion': 'clear motion rate 240',\n",
              "  'feature': 'slim led',\n",
              "  'hdmi': '3 in',\n",
              "  'lan': '1',\n",
              "  'maximum resolution': '1920 x 1080',\n",
              "  'other connectors': 'audio out mini jack x 1',\n",
              "  'output power': '10w + 10w',\n",
              "  'power consumption': 'standby power consumption: under 0.3w',\n",
              "  'recommended resolution': '1080p',\n",
              "  'screen size': '55  (54.6 .)',\n",
              "  'series': '6150 series',\n",
              "  'stand': 'swivel stand',\n",
              "  'tuner': 'atscclear qam tuners',\n",
              "  'usb': '3',\n",
              "  'weight with stand': '39.7 lbs.',\n",
              "  'weight without stand': '35.7 lbs.',\n",
              "  'wireless': 'wifi'},\n",
              " 'modelID': 'UN55ES6150',\n",
              " 'shop': 'newegg.com',\n",
              " 'title': '  : samsung 6150 series 55  (54.6 .) 1080p ledlcd hdtv  un55es6150',\n",
              " 'url': 'http://www.newegg.com/Product/Product.aspx?Item=9SIA22F0UN8547'}"
            ]
          },
          "metadata": {},
          "execution_count": 246
        }
      ]
    },
    {
      "cell_type": "code",
      "metadata": {
        "id": "AXMN7hhxOqrU"
      },
      "source": [
        "test['duplicates']"
      ],
      "execution_count": null,
      "outputs": []
    },
    {
      "cell_type": "code",
      "metadata": {
        "colab": {
          "base_uri": "https://localhost:8080/"
        },
        "id": "bl9Lfx_APEVj",
        "outputId": "1c43e947-5bbb-422f-c16d-3ad9ce386688"
      },
      "source": [
        "train['TVs'][978]['modelID'] == train['TVs'][979]['modelID']"
      ],
      "execution_count": null,
      "outputs": [
        {
          "output_type": "execute_result",
          "data": {
            "text/plain": [
              "True"
            ]
          },
          "metadata": {},
          "execution_count": 200
        }
      ]
    },
    {
      "cell_type": "code",
      "metadata": {
        "colab": {
          "base_uri": "https://localhost:8080/"
        },
        "id": "TB1LZo42ROHD",
        "outputId": "93397aae-b6b9-40bf-89fc-bc35e455803a"
      },
      "source": [
        "len(train['TVs']) + len(test['TVs'])\n",
        "len(train['TVs'])"
      ],
      "execution_count": null,
      "outputs": [
        {
          "output_type": "execute_result",
          "data": {
            "text/plain": [
              "833"
            ]
          },
          "metadata": {},
          "execution_count": 232
        }
      ]
    },
    {
      "cell_type": "code",
      "metadata": {
        "colab": {
          "base_uri": "https://localhost:8080/",
          "height": 36
        },
        "id": "NsX8ijh3mb6R",
        "outputId": "fbfee6c7-46d2-4ef9-8499-de7ab19f9a9f"
      },
      "source": [
        "import random; random.choice(list(data.keys()))"
      ],
      "execution_count": null,
      "outputs": [
        {
          "output_type": "execute_result",
          "data": {
            "application/vnd.google.colaboratory.intrinsic+json": {
              "type": "string"
            },
            "text/plain": [
              "'P701-AVT'"
            ]
          },
          "metadata": {},
          "execution_count": 201
        }
      ]
    },
    {
      "cell_type": "code",
      "metadata": {
        "id": "3A3SvPEZnfuA"
      },
      "source": [
        "trainingIDs = getModelIDsForTrain(data, 0.6)\n"
      ],
      "execution_count": null,
      "outputs": []
    },
    {
      "cell_type": "code",
      "metadata": {
        "id": "eWf0bUYuMGyu"
      },
      "source": [
        "testingIDs = list(set(data.keys()).difference(set(trainingIDs)))"
      ],
      "execution_count": null,
      "outputs": []
    },
    {
      "cell_type": "code",
      "metadata": {
        "id": "ASyrnC1ML2r2"
      },
      "source": [
        "for idx, modelID in enumerate(trainingIDs):\n",
        "  print(idx, modelID)"
      ],
      "execution_count": null,
      "outputs": []
    },
    {
      "cell_type": "code",
      "metadata": {
        "id": "PSUwLrKrrM1c"
      },
      "source": [
        "set(data.keys()).difference(set(trainingIDs))"
      ],
      "execution_count": null,
      "outputs": []
    },
    {
      "cell_type": "code",
      "metadata": {
        "id": "lXLPQ_2XquqF"
      },
      "source": [
        "set(trainingIDs)"
      ],
      "execution_count": null,
      "outputs": []
    },
    {
      "cell_type": "code",
      "metadata": {
        "colab": {
          "base_uri": "https://localhost:8080/"
        },
        "id": "9sHf-7gNpwWm",
        "outputId": "0b60d60b-751d-407d-d328-22f05ecf61f4"
      },
      "source": [
        "np.sum([ 1 for ModelID in trainingIDs for TV in data[ModelID]])\n"
      ],
      "execution_count": null,
      "outputs": [
        {
          "output_type": "execute_result",
          "data": {
            "text/plain": [
              "974.4"
            ]
          },
          "metadata": {},
          "execution_count": 215
        }
      ]
    },
    {
      "cell_type": "code",
      "metadata": {
        "colab": {
          "base_uri": "https://localhost:8080/"
        },
        "id": "XbFigBBnnlAe",
        "outputId": "44cafc76-7ee8-4368-902b-0ad9394fb33e"
      },
      "source": [
        "numberOfTVs"
      ],
      "execution_count": null,
      "outputs": [
        {
          "output_type": "execute_result",
          "data": {
            "text/plain": [
              "12084"
            ]
          },
          "metadata": {},
          "execution_count": 204
        }
      ]
    },
    {
      "cell_type": "code",
      "source": [
        "infin = 100000\n",
        "dissimulMatrix = np.full( (1136, 1136), infin)"
      ],
      "metadata": {
        "id": "LhkL8wPVkP3D"
      },
      "execution_count": null,
      "outputs": []
    },
    {
      "cell_type": "code",
      "source": [
        "len(train['TVs'])"
      ],
      "metadata": {
        "colab": {
          "base_uri": "https://localhost:8080/"
        },
        "id": "z6vrMXStlQiq",
        "outputId": "1c9da263-0564-40f2-e0f9-012a80d33ad9"
      },
      "execution_count": null,
      "outputs": [
        {
          "output_type": "execute_result",
          "data": {
            "text/plain": [
              "1136"
            ]
          },
          "metadata": {},
          "execution_count": 212
        }
      ]
    },
    {
      "cell_type": "code",
      "source": [
        "np.full((1136, 1136), infin).shape"
      ],
      "metadata": {
        "colab": {
          "base_uri": "https://localhost:8080/"
        },
        "id": "nZADCGdRlFdK",
        "outputId": "3dac01a4-47f5-46c9-8adb-ee64378730a3"
      },
      "execution_count": null,
      "outputs": [
        {
          "output_type": "execute_result",
          "data": {
            "text/plain": [
              "(1136, 1136)"
            ]
          },
          "metadata": {},
          "execution_count": 211
        }
      ]
    },
    {
      "cell_type": "code",
      "source": [
        "dissimulMatrix.shape"
      ],
      "metadata": {
        "colab": {
          "base_uri": "https://localhost:8080/",
          "height": 165
        },
        "id": "ODlQzMp2kuIF",
        "outputId": "1e06e7ae-c0b4-4246-dc80-b7201c068b7a"
      },
      "execution_count": null,
      "outputs": [
        {
          "output_type": "error",
          "ename": "AttributeError",
          "evalue": "ignored",
          "traceback": [
            "\u001b[0;31m---------------------------------------------------------------------------\u001b[0m",
            "\u001b[0;31mAttributeError\u001b[0m                            Traceback (most recent call last)",
            "\u001b[0;32m<ipython-input-206-5d14d34092d6>\u001b[0m in \u001b[0;36m<module>\u001b[0;34m()\u001b[0m\n\u001b[0;32m----> 1\u001b[0;31m \u001b[0mdissimulMatrix\u001b[0m\u001b[0;34m.\u001b[0m\u001b[0mshape\u001b[0m\u001b[0;34m\u001b[0m\u001b[0;34m\u001b[0m\u001b[0m\n\u001b[0m",
            "\u001b[0;31mAttributeError\u001b[0m: 'tuple' object has no attribute 'shape'"
          ]
        }
      ]
    },
    {
      "cell_type": "code",
      "source": [
        "train['duplicates']\n",
        "\n",
        "# len(train['TVs'])"
      ],
      "metadata": {
        "colab": {
          "base_uri": "https://localhost:8080/"
        },
        "id": "fXs2fWhhjf49",
        "outputId": "f0c3e7ec-a567-4ecd-ada0-b67d08956023"
      },
      "execution_count": null,
      "outputs": [
        {
          "output_type": "execute_result",
          "data": {
            "text/plain": [
              "[(0, 1),\n",
              " (4, 5),\n",
              " (7, 8),\n",
              " (11, 12),\n",
              " (15, 16),\n",
              " (18, 19),\n",
              " (29, 30),\n",
              " (33, 34),\n",
              " (40, 41),\n",
              " (44, 45),\n",
              " (48, 49),\n",
              " (52, 53),\n",
              " (54, 55),\n",
              " (59, 60),\n",
              " (61, 62),\n",
              " (67, 68),\n",
              " (73, 74),\n",
              " (75, 76),\n",
              " (75, 77),\n",
              " (75, 78),\n",
              " (76, 77),\n",
              " (76, 78),\n",
              " (77, 78),\n",
              " (86, 87),\n",
              " (91, 92),\n",
              " (93, 94),\n",
              " (103, 104),\n",
              " (105, 106),\n",
              " (107, 108),\n",
              " (109, 110),\n",
              " (114, 115),\n",
              " (116, 117),\n",
              " (122, 123),\n",
              " (127, 128),\n",
              " (130, 131),\n",
              " (137, 138),\n",
              " (146, 147),\n",
              " (150, 151),\n",
              " (153, 154),\n",
              " (155, 156),\n",
              " (155, 157),\n",
              " (156, 157),\n",
              " (158, 159),\n",
              " (178, 179),\n",
              " (181, 182),\n",
              " (186, 187),\n",
              " (190, 191),\n",
              " (192, 193),\n",
              " (198, 199),\n",
              " (201, 202),\n",
              " (208, 209),\n",
              " (219, 220),\n",
              " (219, 221),\n",
              " (220, 221),\n",
              " (225, 226),\n",
              " (227, 228),\n",
              " (231, 232),\n",
              " (231, 233),\n",
              " (232, 233),\n",
              " (235, 236),\n",
              " (237, 238),\n",
              " (243, 244),\n",
              " (247, 248),\n",
              " (252, 253),\n",
              " (259, 260),\n",
              " (263, 264),\n",
              " (269, 270),\n",
              " (276, 277),\n",
              " (278, 279),\n",
              " (280, 281),\n",
              " (282, 283),\n",
              " (285, 286),\n",
              " (292, 293),\n",
              " (295, 296),\n",
              " (299, 300),\n",
              " (301, 302),\n",
              " (306, 307),\n",
              " (311, 312),\n",
              " (313, 314),\n",
              " (323, 324),\n",
              " (325, 326),\n",
              " (327, 328),\n",
              " (330, 331),\n",
              " (332, 333),\n",
              " (338, 339),\n",
              " (338, 340),\n",
              " (339, 340),\n",
              " (342, 343),\n",
              " (344, 345),\n",
              " (344, 346),\n",
              " (345, 346),\n",
              " (353, 354),\n",
              " (356, 357),\n",
              " (359, 360),\n",
              " (368, 369),\n",
              " (372, 373),\n",
              " (386, 387),\n",
              " (390, 391),\n",
              " (398, 399),\n",
              " (402, 403),\n",
              " (409, 410),\n",
              " (415, 416),\n",
              " (418, 419),\n",
              " (423, 424),\n",
              " (429, 430),\n",
              " (432, 433),\n",
              " (439, 440),\n",
              " (439, 441),\n",
              " (439, 442),\n",
              " (440, 441),\n",
              " (440, 442),\n",
              " (441, 442),\n",
              " (443, 444),\n",
              " (451, 452),\n",
              " (451, 453),\n",
              " (452, 453),\n",
              " (455, 456),\n",
              " (460, 461),\n",
              " (465, 466),\n",
              " (471, 472),\n",
              " (474, 475),\n",
              " (480, 481),\n",
              " (485, 486),\n",
              " (492, 493),\n",
              " (497, 498),\n",
              " (501, 502),\n",
              " (508, 509),\n",
              " (508, 510),\n",
              " (509, 510),\n",
              " (513, 514),\n",
              " (513, 515),\n",
              " (514, 515),\n",
              " (524, 525),\n",
              " (528, 529),\n",
              " (530, 531),\n",
              " (534, 535),\n",
              " (541, 542),\n",
              " (543, 544),\n",
              " (549, 550),\n",
              " (551, 552),\n",
              " (553, 554),\n",
              " (560, 561),\n",
              " (566, 567),\n",
              " (568, 569),\n",
              " (575, 576),\n",
              " (578, 579),\n",
              " (580, 581),\n",
              " (589, 590),\n",
              " (594, 595),\n",
              " (596, 597),\n",
              " (598, 599),\n",
              " (603, 604),\n",
              " (608, 609),\n",
              " (611, 612),\n",
              " (623, 624),\n",
              " (626, 627),\n",
              " (631, 632),\n",
              " (633, 634),\n",
              " (637, 638),\n",
              " (639, 640),\n",
              " (645, 646),\n",
              " (650, 651),\n",
              " (654, 655),\n",
              " (664, 665),\n",
              " (666, 667),\n",
              " (666, 668),\n",
              " (667, 668),\n",
              " (669, 670),\n",
              " (674, 675),\n",
              " (676, 677),\n",
              " (678, 679),\n",
              " (685, 686),\n",
              " (693, 694),\n",
              " (697, 698),\n",
              " (699, 700),\n",
              " (705, 706),\n",
              " (705, 707),\n",
              " (706, 707),\n",
              " (708, 709),\n",
              " (714, 715),\n",
              " (721, 722),\n",
              " (724, 725),\n",
              " (730, 731),\n",
              " (732, 733),\n",
              " (734, 735),\n",
              " (739, 740),\n",
              " (744, 745),\n",
              " (752, 753),\n",
              " (754, 755),\n",
              " (756, 757),\n",
              " (761, 762),\n",
              " (763, 764),\n",
              " (770, 771),\n",
              " (773, 774),\n",
              " (776, 777),\n",
              " (779, 780),\n",
              " (783, 784),\n",
              " (785, 786),\n",
              " (789, 790),\n",
              " (791, 792),\n",
              " (793, 794),\n",
              " (793, 795),\n",
              " (794, 795),\n",
              " (802, 803),\n",
              " (802, 804),\n",
              " (803, 804),\n",
              " (815, 816),\n",
              " (829, 830),\n",
              " (829, 831),\n",
              " (830, 831),\n",
              " (832, 833),\n",
              " (834, 835),\n",
              " (838, 839),\n",
              " (841, 842),\n",
              " (844, 845),\n",
              " (844, 846),\n",
              " (845, 846),\n",
              " (849, 850),\n",
              " (851, 852),\n",
              " (860, 861),\n",
              " (862, 863),\n",
              " (862, 864),\n",
              " (863, 864),\n",
              " (865, 866),\n",
              " (865, 867),\n",
              " (865, 868),\n",
              " (866, 867),\n",
              " (866, 868),\n",
              " (867, 868),\n",
              " (870, 871),\n",
              " (873, 874),\n",
              " (882, 883),\n",
              " (884, 885),\n",
              " (886, 887),\n",
              " (888, 889),\n",
              " (901, 902),\n",
              " (903, 904),\n",
              " (903, 905),\n",
              " (904, 905),\n",
              " (910, 911),\n",
              " (912, 913),\n",
              " (914, 915),\n",
              " (921, 922),\n",
              " (930, 931),\n",
              " (932, 933),\n",
              " (941, 942),\n",
              " (949, 950),\n",
              " (949, 951),\n",
              " (950, 951),\n",
              " (954, 955),\n",
              " (957, 958),\n",
              " (957, 959),\n",
              " (958, 959),\n",
              " (961, 962),\n",
              " (966, 967),\n",
              " (976, 977),\n",
              " (978, 979),\n",
              " (980, 981),\n",
              " (983, 984),\n",
              " (983, 985),\n",
              " (984, 985),\n",
              " (989, 990),\n",
              " (991, 992),\n",
              " (991, 993),\n",
              " (992, 993),\n",
              " (1005, 1006),\n",
              " (1008, 1009),\n",
              " (1010, 1011),\n",
              " (1017, 1018),\n",
              " (1022, 1023),\n",
              " (1031, 1032),\n",
              " (1036, 1037),\n",
              " (1038, 1039),\n",
              " (1038, 1040),\n",
              " (1039, 1040),\n",
              " (1041, 1042),\n",
              " (1044, 1045),\n",
              " (1047, 1048),\n",
              " (1047, 1049),\n",
              " (1048, 1049),\n",
              " (1060, 1061),\n",
              " (1065, 1066),\n",
              " (1067, 1068),\n",
              " (1071, 1072),\n",
              " (1074, 1075),\n",
              " (1077, 1078),\n",
              " (1080, 1081),\n",
              " (1092, 1093),\n",
              " (1092, 1094),\n",
              " (1092, 1095),\n",
              " (1093, 1094),\n",
              " (1093, 1095),\n",
              " (1094, 1095),\n",
              " (1102, 1103),\n",
              " (1111, 1112),\n",
              " (1114, 1115),\n",
              " (1119, 1120),\n",
              " (1125, 1126),\n",
              " (1127, 1128),\n",
              " (1129, 1130),\n",
              " (1132, 1133)]"
            ]
          },
          "metadata": {},
          "execution_count": 197
        }
      ]
    },
    {
      "cell_type": "code",
      "metadata": {
        "id": "M_GfO0AWqrYZ"
      },
      "source": [
        "train, test = getTrainAndTestData(data, 0.7)\n",
        "train['TVs'][0]"
      ],
      "execution_count": null,
      "outputs": []
    },
    {
      "cell_type": "markdown",
      "metadata": {
        "id": "mvFgwYViCBqA"
      },
      "source": [
        "##ModelWordsExtractor"
      ]
    },
    {
      "cell_type": "code",
      "metadata": {
        "id": "i2dJYEFQBqSp"
      },
      "source": [
        "class ModelWordsExtractor: \n",
        "  def getModelWordsFromFeatMap(self, featMap):\n",
        "    mwsList = []\n",
        "    for key, value in featMap.items():\n",
        "      mws = self.getModelWords(value)\n",
        "      for mw in mws: \n",
        "        mwsList.append(mw)\n",
        "    return set(mwsList)\n",
        "\n",
        "  def getModelWords(self, value):\n",
        "    return set(re.findall('\\w+',valueWithoutExtraSpaces))\n",
        "  \n",
        "  def getSetFromRe(self, reResult):\n",
        "    setFromRe =  { modelWord for modelWorldTuple in reResult for modelWord in modelWorldTuple}\n",
        "    removedWhiteSpace = {  re.sub(r'[\\s]',\"\",modelWord) for modelWord in setFromRe if re.sub(r'[\\s]',\"\",modelWord)!=''}\n",
        "    return removedWhiteSpace"
      ],
      "execution_count": null,
      "outputs": []
    },
    {
      "cell_type": "code",
      "metadata": {
        "colab": {
          "base_uri": "https://localhost:8080/"
        },
        "id": "-2kAlHeDCIbP",
        "outputId": "44391007-bced-49c7-a35d-5e5dbe167df8"
      },
      "source": [
        "preprocessedTV = train['TVs'][0]\n",
        "preprocessedTV['featuresMap']\n",
        "# preprocessedTV['featuresMap']['Mount Bracket/VESA Pattern']"
      ],
      "execution_count": null,
      "outputs": [
        {
          "output_type": "execute_result",
          "data": {
            "text/plain": [
              "{'aspect ratio': '16:9',\n",
              " 'brand': 'sceptre',\n",
              " 'brightness': '450 cd/m2',\n",
              " 'component video': '1 in',\n",
              " 'composite a/v': '1 in',\n",
              " 'contrast ratio': '4500:1',\n",
              " 'digital audio': '1 coaxial out',\n",
              " 'dimensions with stand': '38.98(w) x 26.9(h) x 10.2(d)',\n",
              " 'dimensions without stand': '38.98(w) x 24.1(h) x 4.25(d)',\n",
              " 'display color': '1.07 billion',\n",
              " 'dynamic contrast ratio': '90000:1',\n",
              " 'energy star compliant': 'yes',\n",
              " 'feature': 'on screen display control (osd): picture, sound, channel, parental, setup, others',\n",
              " 'hdmi': '3 in',\n",
              " 'headphone': 'yes',\n",
              " 'maximum resolution': '1920 x 1080',\n",
              " 'other connectors': 'cable / antenna input x 1',\n",
              " 'output power': '10w + 10w',\n",
              " 'power supply': 'ac 100-240 bac, 60/50hz',\n",
              " 'recommended resolution': '1080p',\n",
              " 'regulatory approvals': 'certificates: ctuv us, fcc',\n",
              " 'response time': '8ms',\n",
              " 'screen size': '40',\n",
              " 'tuner': 'atsc/ntsc/qam tuner',\n",
              " 'usb': '1',\n",
              " 'viewing angle': '178°(h) / 178°(v)',\n",
              " 'weight with stand': '37.4 lbs.',\n",
              " 'weight without stand': '41.5 lbs.'}"
            ]
          },
          "metadata": {},
          "execution_count": 98
        }
      ]
    },
    {
      "cell_type": "code",
      "metadata": {
        "colab": {
          "base_uri": "https://localhost:8080/",
          "height": 320
        },
        "id": "61Es5FbTCSVQ",
        "outputId": "88237120-91c0-44da-8aa6-648c3344b6fa"
      },
      "source": [
        "mwe = ModelWordsExtractor()\n",
        "mwe.getModelWords(preprocessedTV['featuresMap']['weight without stand'])"
      ],
      "execution_count": null,
      "outputs": [
        {
          "output_type": "error",
          "ename": "NameError",
          "evalue": "ignored",
          "traceback": [
            "\u001b[0;31m---------------------------------------------------------------------------\u001b[0m",
            "\u001b[0;31mNameError\u001b[0m                                 Traceback (most recent call last)",
            "\u001b[0;32m<ipython-input-100-159622bfcd1c>\u001b[0m in \u001b[0;36m<module>\u001b[0;34m()\u001b[0m\n\u001b[1;32m      1\u001b[0m \u001b[0mmwe\u001b[0m \u001b[0;34m=\u001b[0m \u001b[0mModelWordsExtractor\u001b[0m\u001b[0;34m(\u001b[0m\u001b[0;34m)\u001b[0m\u001b[0;34m\u001b[0m\u001b[0;34m\u001b[0m\u001b[0m\n\u001b[0;32m----> 2\u001b[0;31m \u001b[0mmwe\u001b[0m\u001b[0;34m.\u001b[0m\u001b[0mgetModelWords\u001b[0m\u001b[0;34m(\u001b[0m\u001b[0mpreprocessedTV\u001b[0m\u001b[0;34m[\u001b[0m\u001b[0;34m'featuresMap'\u001b[0m\u001b[0;34m]\u001b[0m\u001b[0;34m[\u001b[0m\u001b[0;34m'weight without stand'\u001b[0m\u001b[0;34m]\u001b[0m\u001b[0;34m)\u001b[0m\u001b[0;34m\u001b[0m\u001b[0;34m\u001b[0m\u001b[0m\n\u001b[0m",
            "\u001b[0;32m<ipython-input-97-6181e01ac8bb>\u001b[0m in \u001b[0;36mgetModelWords\u001b[0;34m(self, value)\u001b[0m\n\u001b[1;32m      9\u001b[0m \u001b[0;34m\u001b[0m\u001b[0m\n\u001b[1;32m     10\u001b[0m   \u001b[0;32mdef\u001b[0m \u001b[0mgetModelWords\u001b[0m\u001b[0;34m(\u001b[0m\u001b[0mself\u001b[0m\u001b[0;34m,\u001b[0m \u001b[0mvalue\u001b[0m\u001b[0;34m)\u001b[0m\u001b[0;34m:\u001b[0m\u001b[0;34m\u001b[0m\u001b[0;34m\u001b[0m\u001b[0m\n\u001b[0;32m---> 11\u001b[0;31m     \u001b[0;32mreturn\u001b[0m \u001b[0mset\u001b[0m\u001b[0;34m(\u001b[0m\u001b[0mre\u001b[0m\u001b[0;34m.\u001b[0m\u001b[0mfindall\u001b[0m\u001b[0;34m(\u001b[0m\u001b[0;34m'\\w+'\u001b[0m\u001b[0;34m,\u001b[0m\u001b[0mvalueWithoutExtraSpaces\u001b[0m\u001b[0;34m)\u001b[0m\u001b[0;34m)\u001b[0m\u001b[0;34m\u001b[0m\u001b[0;34m\u001b[0m\u001b[0m\n\u001b[0m\u001b[1;32m     12\u001b[0m \u001b[0;34m\u001b[0m\u001b[0m\n\u001b[1;32m     13\u001b[0m   \u001b[0;32mdef\u001b[0m \u001b[0mgetSetFromRe\u001b[0m\u001b[0;34m(\u001b[0m\u001b[0mself\u001b[0m\u001b[0;34m,\u001b[0m \u001b[0mreResult\u001b[0m\u001b[0;34m)\u001b[0m\u001b[0;34m:\u001b[0m\u001b[0;34m\u001b[0m\u001b[0;34m\u001b[0m\u001b[0m\n",
            "\u001b[0;31mNameError\u001b[0m: name 'valueWithoutExtraSpaces' is not defined"
          ]
        }
      ]
    },
    {
      "cell_type": "code",
      "metadata": {
        "colab": {
          "base_uri": "https://localhost:8080/"
        },
        "id": "qklQ48qirrRT",
        "outputId": "e5ec11c2-bcb7-4f75-e1f6-c3dc69e52895"
      },
      "source": [
        "mwe = ModelWordsExtractor()\n",
        "mwe.getModelWords(preprocessedTV['title'], True)"
      ],
      "execution_count": null,
      "outputs": [
        {
          "output_type": "execute_result",
          "data": {
            "text/plain": [
              "{'120', '120hz', '421080', 'tv421080p'}"
            ]
          },
          "metadata": {},
          "execution_count": 21
        }
      ]
    },
    {
      "cell_type": "markdown",
      "metadata": {
        "id": "jiFnRaA7UDk1"
      },
      "source": [
        "##Qgrams"
      ]
    },
    {
      "cell_type": "code",
      "metadata": {
        "id": "pRJebyRBUGKo"
      },
      "source": [
        "class Qgrams: \n",
        "  def __init__(self, QgramsSize):\n",
        "    self.QgramsSize = QgramsSize\n",
        "\n",
        "  def getSimilUsingQgrams(self, string1: str, string2: str):\n",
        "      # print(string1)\n",
        "      # print(string2)\n",
        "      Qgram1 = self.buildQgrams(string1)\n",
        "      Qgram2 = self.buildQgrams(string2)\n",
        "      simil = self.getQgramSimil(Qgram1,Qgram2)\n",
        "      return simil\n",
        " \n",
        "  def buildQgrams(self, sentence: str):\n",
        "    k = self.QgramsSize\n",
        "    qgrams = []\n",
        "    prefix = \"\".join(['#' * (k-1)])\n",
        "    suffix = \"\".join(['%' * (k-1)])\n",
        "    sentence = prefix + sentence + suffix\n",
        "    for i in range(len(sentence) - (k-1)):\n",
        "      qgrams.append(sentence[i:i+k])\n",
        "    return set(qgrams)\n",
        "\n",
        "  def jaccard(self, setOne: set, setTwo: set):\n",
        "    return len(setOne.intersection(setTwo)) / len(setOne.union(setTwo))\n",
        "\n",
        "  def getQgramSimil(self, qgram1, qgram2):\n",
        "    n1 = len(qgram1)\n",
        "    n2 = len(qgram2)\n",
        "    QgramDist = len(qgram1.union(qgram2)) - len(qgram1.intersection(qgram2))\n",
        "    return (n1 + n2 - QgramDist) / (n1 + n2)\n"
      ],
      "execution_count": null,
      "outputs": []
    },
    {
      "cell_type": "markdown",
      "metadata": {
        "id": "PCECfvNw3Kv6"
      },
      "source": [
        "#LSH\n"
      ]
    },
    {
      "cell_type": "markdown",
      "metadata": {
        "id": "re9zulejd1rb"
      },
      "source": [
        "##Shingling & Encoding"
      ]
    },
    {
      "cell_type": "code",
      "metadata": {
        "id": "M_l2ADK0d30S"
      },
      "source": [
        "def buildShingles(sentence: str, k: int):\n",
        "    shingles = []\n",
        "    for i in range(len(sentence) - k):\n",
        "      shingles.append(sentence[i:i+k])\n",
        "    return set(shingles)\n",
        "\n",
        "def getShinglesFromTitle(TVTitle: str):  \n",
        "  shingles = re.sub('['+string.punctuation+']', '', TVTitle).split()\n",
        "  return(set(shingles))\n",
        "\n",
        "def getTitleWithoutPunctuation(TVTitle: str):\n",
        "  return re.sub('['+string.punctuation+']', '', TVTitle)\n",
        "\n",
        "def buildVocab(shingleSets: list):\n",
        "  fullSet = {item for shingleSet in shingleSets for item in shingleSet}\n",
        "  vocab = {}\n",
        "  for i, shingle in enumerate(list(fullSet)):\n",
        "    vocab[shingle] = i\n",
        "  return vocab\n",
        "\n",
        "def oneHotEncode(shingles: set, vocab: dict):\n",
        "  vect = np.zeros(len(vocab))\n",
        "  for shingle in shingles:\n",
        "    idx = vocab[shingle]\n",
        "    vect[idx]=1\n",
        "  return vect\n"
      ],
      "execution_count": null,
      "outputs": []
    },
    {
      "cell_type": "markdown",
      "metadata": {
        "id": "rbA5UIwrUa9Y"
      },
      "source": [
        "##Get shingle matrix from TVs"
      ]
    },
    {
      "cell_type": "code",
      "metadata": {
        "id": "O0UmGMqqUhAf"
      },
      "source": [
        "# Creating shingles from qgrams and building vocabulary\n",
        "##Create qgrams from title and featmap values and use those to make a shingle set\n",
        "\n",
        "def getShinglesFromTVsAndVocab(TVs, QgramsSize):\n",
        "  QG = Qgrams(QgramsSize)\n",
        "  TVShingles = []\n",
        "  for TV in TVs:\n",
        "    titleShingles = buildShingles(TV['title'],QgramsSize)\n",
        "    TVShingles.append(titleShingles)\n",
        "  \n",
        "  vocab = buildVocab(TVShingles)\n",
        "\n",
        "  shinglesOneHot = []\n",
        "  for shingleSet in TVShingles:\n",
        "    shinglesOneHot.append(oneHotEncode(shingleSet, vocab))\n",
        "\n",
        "  # stack into single numpy array\n",
        "  shinglesOneHot = np.stack(shinglesOneHot)\n",
        "  print(f'Shape of shingleMatrix {shinglesOneHot.shape}')\n",
        "  return (shinglesOneHot, vocab)\n",
        "\n",
        "\n",
        "def getShingleSetFromFeatMap(featMap, QgramsSize):\n",
        "  QG = Qgrams(QgramsSize)\n",
        "  shingleList = [ QG.buildQgrams(featMap[key]) for key in featMap.keys()]\n",
        "  shingleSet = { qgram for qgramSet in shingleList for qgram in qgramSet}\n",
        "  return shingleSet"
      ],
      "execution_count": null,
      "outputs": []
    },
    {
      "cell_type": "code",
      "metadata": {
        "id": "4mazpQ9gbv4Y"
      },
      "source": [
        "shinglesOneHot = getShinglesFromTVsAndVocab(train['TVs'],3)"
      ],
      "execution_count": null,
      "outputs": []
    },
    {
      "cell_type": "markdown",
      "metadata": {
        "id": "T1bXzdBjyDUM"
      },
      "source": [
        "##Min-Hashing"
      ]
    },
    {
      "cell_type": "code",
      "metadata": {
        "id": "kKN-lJlpzPNj"
      },
      "source": [
        "def getMinhashFuncsArray(vocab: dict, nFuncs: int):\n",
        "    length = len(vocab.keys())\n",
        "    arr = np.zeros((nFuncs, length))\n",
        "    for i in range(nFuncs):\n",
        "        permutation = np.random.permutation(len(vocab)) + 1\n",
        "        arr[i, :] = permutation.copy()\n",
        "    return arr.astype(int)\n",
        "\n",
        "def getSignature(minhashFuncsArray, oneHotVec):\n",
        "    # get index locations of every nonzero value in one hot encoded vector\n",
        "    idx = np.nonzero(oneHotVec)[0].tolist()\n",
        " \n",
        "    # get values of the non zero indices for every hash function\n",
        "    shingles = minhashFuncsArray[:, idx]\n",
        "    \n",
        "    # find minimum value for each hash function where index was one\n",
        "    signature = np.min(shingles, axis=1)\n",
        "    return signature\n",
        "\n",
        "def getSignatureMatrix(shinglesOneHotMatrix, lenSignature:int, vocab: dict):\n",
        "  minHashFuncsArray = getMinhashFuncsArray(vocab, lenSignature)\n",
        "  signatures = []\n",
        "\n",
        "  for oneHotVec in shinglesOneHotMatrix:\n",
        "    signatures.append(getSignature(minHashFuncsArray, oneHotVec))\n",
        "  \n",
        "  # merge signatures into single array\n",
        "  signatures = np.stack(signatures)\n",
        "  print(f'This is the shape of the signature matrix: {signatures.shape}')\n",
        "  return signatures"
      ],
      "execution_count": null,
      "outputs": []
    },
    {
      "cell_type": "markdown",
      "metadata": {
        "id": "504b7_M5ZyF_"
      },
      "source": [
        "##LSH process"
      ]
    },
    {
      "cell_type": "code",
      "metadata": {
        "id": "HjzkXWAFZ0dm"
      },
      "source": [
        "class LSH:\n",
        "    buckets = []\n",
        "    indexSignature = 0\n",
        "\n",
        "    def __init__(self, b):\n",
        "        self.b = b\n",
        "        for i in range(b):\n",
        "            self.buckets.append({})\n",
        "\n",
        "    def makeSubvecs(self, signature):\n",
        "        l = len(signature)\n",
        "        assert l % self.b == 0\n",
        "        r = int(l / self.b)\n",
        "        # break signature into subvectors\n",
        "        subvecs = []\n",
        "        for i in range(0, l, r):\n",
        "            subvecs.append(signature[i:i+r])\n",
        "        return np.stack(subvecs)\n",
        "       \n",
        "    def addSignatureToBuckets(self, signature):\n",
        "      bandsOfSignature = self.makeSubvecs(signature).astype(str)\n",
        "      for bandIndex, bandOfSignature in enumerate(bandsOfSignature):\n",
        "        # From subvec of signature create a key to store in bands dictionary\n",
        "        bandSigValuesAsKey = \",\".join(bandOfSignature)\n",
        "\n",
        "        # If subvec key of signature signatureIndex does not exists in dictionary for band i add it to dictionary\n",
        "        if bandSigValuesAsKey not in self.buckets[bandIndex].keys():\n",
        "          self.buckets[bandIndex][bandSigValuesAsKey] = []\n",
        "        \n",
        "        #Add index of signature to its subvec signature key in band dictionary, if another signature has the same key for this band then both indices are represented as value of key\n",
        "        self.buckets[bandIndex][bandSigValuesAsKey].append(self.indexSignature)\n",
        "      self.indexSignature +=1\n",
        "\n",
        "    def checkCandidates(self):\n",
        "        candidates = []\n",
        "        for bucketBand in self.buckets:\n",
        "            # All unique sub signatures in a bucket band\n",
        "            keys = bucketBand.keys()\n",
        "            for bucket in keys:\n",
        "                nSubSigsThatShareBucket = bucketBand[bucket]\n",
        "                if len(nSubSigsThatShareBucket) > 1:\n",
        "                    # Get all possible pairs of sub signatures that share bucket band\n",
        "                    candidates.extend(combinations(nSubSigsThatShareBucket, 2))\n",
        "        # Return non duplicate pairs of sub signatures that share bucket band\n",
        "        return set(candidates)\n",
        "    \n",
        "    def reset(self):\n",
        "      self.buckets = []\n",
        "      self.indexSignature = 0\n",
        "      for i in range(self.b):\n",
        "        self.buckets.append({})"
      ],
      "execution_count": null,
      "outputs": []
    },
    {
      "cell_type": "markdown",
      "metadata": {
        "id": "wQ7dN69krN_x"
      },
      "source": [
        "#"
      ]
    },
    {
      "cell_type": "markdown",
      "metadata": {
        "id": "oOC1rFKN1Cwo"
      },
      "source": [
        "#Evaluation"
      ]
    },
    {
      "cell_type": "code",
      "metadata": {
        "id": "nE4pFKMk1leZ"
      },
      "source": [
        "# Bootstrapping\n",
        "# For  each  bootstrap  you  obtain  approximately 63%  of the original  data  as  training  data,  while  the  remaining  data  (out-of-sample)  is  considered  as the  test  dataset.  \n",
        "# For  robustness  you  need  to  consider  at  least  5  bootstraps  in  the  evaluation procedure. \n",
        "# To evaluate the performance of the algorithm the average (across bootstraps) F1-measure needsto be used. \n",
        "\n",
        "# For  evaluating  the  performance  of  yourscalability solution you need to use pair quality (number of duplicates found/number of comparisonsmade),  \n",
        "\n",
        "# pair  completeness  (number  of duplicates  found/total number  of duplicates),   \n",
        "\n",
        "# F1*-measure,   and   F1-measure change   for   different   fractions   of comparisons (number of comparisons made/total number of possible comparisons).\n",
        "\n",
        "\n",
        "# !! Seperate evaluator for LSH and MSM\n",
        "\n",
        "class Evaluator: \n",
        "  yTrue = []\n",
        "  def __init__(self, yPred: list, duplicates: list, candidates: list, totalTVs: int):\n",
        "    self.yTrue = [True if candidate in duplicates else False for candidate in candidates]\n",
        "    self.yPred = yPred\n",
        "    self.nComparisons = len(candidates)\n",
        "    assert len(self.yPred) == len(self.yTrue), 'Uneven lengths'\n",
        "    self.duplicates = duplicates\n",
        "    self.candidates = candidates\n",
        "    self.nDupesFound = np.sum([1 for candidate in self.candidates if candidate in self.duplicates])\n",
        "    self.totalTVs = totalTVs\n",
        "    print(f'number of dupes found: {self.nDupesFound}')\n",
        "    print(f'number of dupes total: {len( self.duplicates)}')\n",
        "\n",
        "  def getPairQuality(self):\n",
        "    return self.nDupesFound / self.nComparisons\n",
        "\n",
        "  def getPairCompleteness(self):\n",
        "    return self.nDupesFound / len(self.duplicates)\n",
        "  \n",
        "  def F1_score_star(self):\n",
        "    pairQuality = self.getPairQuality()\n",
        "    pairCompleteness = self.getPairCompleteness()\n",
        "    return 2 * ( pairQuality * pairCompleteness ) / (pairQuality + pairCompleteness)\n",
        "\n",
        "  def F1_score_classifier(self):\n",
        "    return f1_score(self.yTrue, self.yPred)\n",
        "  \n",
        "  def reset(self):\n",
        "    yTrue = []\n",
        "\n",
        "  def getFractionsOfComparisons(self):\n",
        "    possibleComparisons = self.totalTVs * (self.totalTVs - 1) /2\n",
        "    print(f'possibleComparisons: {possibleComparisons}')\n",
        "    print(f'comparisons made: {self.nComparisons}')\n",
        "    return self.nComparisons / possibleComparisons\n",
        "\n",
        "  def getLSHPerformance(self):\n",
        "    pairQuality = self.getPairQuality()\n",
        "    pairCompleteness = self.getPairCompleteness()\n",
        "    F1_score_star = self.F1_score_star()\n",
        "    fractionsOfComparisons = self.getFractionsOfComparisons()\n",
        "\n",
        "    print(f'Pair quality: {pairQuality} \\n')\n",
        "    print(f'Pair completeness: {pairCompleteness} \\n')\n",
        "    print(f'F1*: {F1_score_star} \\n')\n",
        "    print(f'Fraction of comparisons: {fractionsOfComparisons}')\n",
        "    return {\n",
        "        'pairQuality':pairQuality,\n",
        "        'pairCompleteness':pairCompleteness,\n",
        "        'F1_score_star':F1_score_star,\n",
        "        'fractionsOfComparisons':round(fractionsOfComparisons,2)\n",
        "    }\n",
        "    \n"
      ],
      "execution_count": null,
      "outputs": []
    },
    {
      "cell_type": "markdown",
      "metadata": {
        "id": "Xnd13edm1JEP"
      },
      "source": [
        "#Main\n"
      ]
    },
    {
      "cell_type": "markdown",
      "source": [
        "##Band numbers"
      ],
      "metadata": {
        "id": "CbuqphMwV9tZ"
      }
    },
    {
      "cell_type": "code",
      "source": [
        "viableBandNumbers504 = [4, 6, 7, 8, 9, 12, 14, 18, 21, 24, 28, 36, 42, 56, 63, 72, 84, 126, 168, 252, 504]\n",
        "viableBandNumbers480 = [4, 10, 20, 24, 30, 32, 40, 48, 60, 80, 96, 120, 160, 240]\n",
        "viableBnads330 = [1, 2, 3, 5, 6, 10, 11, 15, 22, 30, 33, 55, 66, 110, 165, 330]\n",
        "viableBands1500 = [1, 2, 3, 4, 5, 6, 10, 12, 15, 20, 25, 30, 50, 60, 75, 100, 125, 150, 250, 300, 375, 500, 750]\n",
        "# nHashFuncs = 500\n",
        "# for b in viableBandNumbers480:\n",
        "#   t = (1/b)**(b/nHashFuncs)\n",
        "#   print(f'for {b} t is {round(t,2)}')\n"
      ],
      "metadata": {
        "id": "oTnBBfxARzXL"
      },
      "execution_count": null,
      "outputs": []
    },
    {
      "cell_type": "code",
      "source": [
        " import pickle\n",
        "#  pickle.dump(results, open(\"save.p\",\"wb\"))\n",
        "results = pickle.load(open(\"results-shingles-100.p\",\"rb\"))"
      ],
      "metadata": {
        "id": "FN-n3hUg9LyR"
      },
      "execution_count": null,
      "outputs": []
    },
    {
      "cell_type": "code",
      "source": [
        "print(len(results))\n",
        "pickle.dump(results, open(\"results-shingles-100.p\",\"wb\"))"
      ],
      "metadata": {
        "id": "jQPIqD9B9Xbh",
        "colab": {
          "base_uri": "https://localhost:8080/"
        },
        "outputId": "31d3c17e-e2d7-459a-d9ae-91aa8e4a0234"
      },
      "execution_count": null,
      "outputs": [
        {
          "output_type": "stream",
          "name": "stdout",
          "text": [
            "3000\n"
          ]
        }
      ]
    },
    {
      "cell_type": "markdown",
      "source": [
        "##Bootstrap"
      ],
      "metadata": {
        "id": "6cD0zQdBWMwo"
      }
    },
    {
      "cell_type": "code",
      "metadata": {
        "id": "oHe3HidK1K7R"
      },
      "source": [
        "results = []\n",
        "for bootstrap in range(100):\n",
        "  print(f'*** \\n CURRENT BOOTSTRAP: {bootstrap} \\n ****')\n",
        "  qGramSize = 3\n",
        "  nHashFuncs = 330\n",
        "  for b in viableBnads330:\n",
        "    print(f'\\n b is equal to {b}')\n",
        "    print(f'The amount of rows in a band is equal to {int(nHashFuncs / b)}')\n",
        "    train, test = getTrainAndTestData(data, 0.6)\n",
        "    (shinglesOneHot, vocab) = getShinglesFromTVsAndVocab(train['TVs'], qGramSize)\n",
        "\n",
        "    lsh = LSH(b)\n",
        "    lsh.reset()\n",
        "  \n",
        "    signatures = getSignatureMatrix(shinglesOneHot, nHashFuncs, vocab)\n",
        "    for signature in signatures:\n",
        "      lsh.addSignatureToBuckets(signature)\n",
        "\n",
        "    candidates = lsh.checkCandidates()\n",
        "    print(f'The amount of candidates is equal to {len(lsh.checkCandidates())}')\n",
        "    nTVs = len(train['TVs'])\n",
        "    evaluator = Evaluator([27 for i in range(len(candidates))], train['duplicates'], candidates, nTVs)\n",
        "    results.append(evaluator.getLSHPerformance())  \n",
        "  \n",
        "  nHashFuncs = 480\n",
        "  for b in viableBandNumbers480:\n",
        "    print(f'\\n b is equal to {b}')\n",
        "    print(f'The amount of rows in a band is equal to {int(nHashFuncs / b)}')\n",
        "    train, test = getTrainAndTestData(data, 0.6)\n",
        "    (shinglesOneHot, vocab) = getShinglesFromTVsAndVocab(train['TVs'], qGramSize)\n",
        "\n",
        "    lsh = LSH(b)\n",
        "    lsh.reset()\n",
        "  \n",
        "    signatures = getSignatureMatrix(shinglesOneHot, nHashFuncs, vocab)\n",
        "    for signature in signatures:\n",
        "      lsh.addSignatureToBuckets(signature)\n",
        "\n",
        "    candidates = lsh.checkCandidates()\n",
        "    print(f'The amount of candidates is equal to {len(lsh.checkCandidates())}')\n",
        "    nTVs = len(train['TVs'])\n",
        "    evaluator = Evaluator([27 for i in range(len(candidates))], train['duplicates'], candidates, nTVs)\n",
        "    results.append(evaluator.getLSHPerformance())  \n"
      ],
      "execution_count": null,
      "outputs": []
    },
    {
      "cell_type": "code",
      "source": [
        "results = []\n",
        "qGramSize = 3\n",
        "nHashFuncs = 500\n",
        "for b in [100]:\n",
        "  print(f'\\n b is equal to {b}')\n",
        "  print(f'The amount of rows in a band is equal to {int(nHashFuncs / b)}')\n",
        "  train, test = getTrainAndTestData(data, 0.6)\n",
        "  (shinglesOneHot, vocab) = getShinglesFromTVsAndVocab(train['TVs'], qGramSize)\n",
        "\n",
        "  lsh = LSH(b)\n",
        "  lsh.reset()\n",
        "  \n",
        "  signatures = getSignatureMatrix(shinglesOneHot, nHashFuncs, vocab)\n",
        "  for signature in signatures:\n",
        "    lsh.addSignatureToBuckets(signature)\n",
        "\n",
        "  candidates = lsh.checkCandidates()\n",
        "  print(f'The amount of candidates is equal to {len(lsh.checkCandidates())}')\n",
        "  nTVs = len(train['TVs'])\n",
        "  evaluator = Evaluator([27 for i in range(len(candidates))], train['duplicates'], candidates, nTVs)"
      ],
      "metadata": {
        "colab": {
          "base_uri": "https://localhost:8080/"
        },
        "id": "ngu8J_Ex14wr",
        "outputId": "9c264b1c-028e-4dcf-d406-95d7e9ad2e20"
      },
      "execution_count": null,
      "outputs": [
        {
          "output_type": "stream",
          "name": "stdout",
          "text": [
            "\n",
            " b is equal to 100\n",
            "The amount of rows in a band is equal to 5\n",
            "975\n",
            "Shape of shingleMatrix (975, 3003)\n",
            "This is the shape of the signature matrix: (975, 500)\n",
            "The amount of candidates is equal to 11355\n",
            "number of dupes found: 135\n",
            "number of dupes total: 253\n"
          ]
        }
      ]
    },
    {
      "cell_type": "code",
      "source": [
        "import math\n",
        "import numpy as np\n",
        "# Sort results to fraction of comparisons\n",
        "pairComplet = {}\n",
        "for result in results:\n",
        "  fracOfComparisons = result['fractionsOfComparisons']\n",
        "  fracOfComparisons = str(round(fracOfComparisons,2))\n",
        "  if(fracOfComparisons in pairComplet.keys()):\n",
        "    pairComplet[fracOfComparisons].append( (result['F1_score_star'], result['pairCompleteness'], result['pairQuality']) )\n",
        "  else: \n",
        "    pairComplet[fracOfComparisons] = []\n",
        "    pairComplet[fracOfComparisons].append( (result['F1_score_star'], result['pairCompleteness'], result['pairQuality']))\n",
        "\n",
        "# Average obs for every fraction of comparison\n",
        "xaxis = []\n",
        "graph_data = []\n",
        "for fracOfComparison in sorted(pairComplet.keys()):\n",
        "  resultsContainer = pairComplet[fracOfComparison]\n",
        "\n",
        "  avgScore = np.zeros((len(resultsContainer[0]),))\n",
        "  resultsCounter = 0\n",
        "  for f1_score, pairCompleteness, pairQuality in resultsContainer:\n",
        "    if(math.isnan(f1_score) == False):\n",
        "      avgScore += np.array([f1_score, pairCompleteness, pairQuality])\n",
        "      resultsCounter +=1\n",
        "  print(f'for fractionOfComparisions: {float(fracOfComparison)}: {avgScore / resultsCounter}')\n",
        "  graph_data.append(avgScore / resultsCounter)\n",
        "  xaxis.append(float(fracOfComparison))\n",
        "np_graph_data = np.array(graph_data)\n",
        "    "
      ],
      "metadata": {
        "colab": {
          "base_uri": "https://localhost:8080/"
        },
        "id": "SkixIyTLRDWg",
        "outputId": "8b9e156f-e612-42cd-f7d7-9b93d5fec9dc"
      },
      "execution_count": null,
      "outputs": [
        {
          "output_type": "stream",
          "name": "stdout",
          "text": [
            "for fractionOfComparisions: 0.0: [0.02096673 0.03719715 0.01595168]\n",
            "for fractionOfComparisions: 0.01: [0.03398701 0.34815915 0.01790033]\n",
            "for fractionOfComparisions: 0.02: [0.02395015 0.49648864 0.01227893]\n",
            "for fractionOfComparisions: 0.03: [0.01906766 0.53917547 0.00970771]\n",
            "for fractionOfComparisions: 0.04: [0.01349933 0.52818475 0.0068373 ]\n",
            "for fractionOfComparisions: 0.05: [0.01366098 0.68410898 0.0068997 ]\n",
            "for fractionOfComparisions: 0.06: [0.01241933 0.74524479 0.00626212]\n",
            "for fractionOfComparisions: 0.07: [0.01071899 0.74240262 0.00539872]\n",
            "for fractionOfComparisions: 0.08: [0.00966279 0.75961932 0.00486243]\n",
            "for fractionOfComparisions: 0.09: [0.0083877  0.74701799 0.00421761]\n",
            "for fractionOfComparisions: 0.1: [0.00755677 0.7240156  0.00379833]\n",
            "for fractionOfComparisions: 0.11: [0.00728923 0.77451493 0.00366205]\n",
            "for fractionOfComparisions: 0.12: [0.005992   0.74576271 0.00300808]\n",
            "for fractionOfComparisions: 0.13: [0.00684456 0.87711864 0.00343568]\n",
            "for fractionOfComparisions: 0.14: [0.00602754 0.8617984  0.00302435]\n",
            "for fractionOfComparisions: 0.15: [0.00562541 0.85689973 0.00282202]\n",
            "for fractionOfComparisions: 0.16: [0.0055442  0.86799596 0.002781  ]\n",
            "for fractionOfComparisions: 0.17: [0.00523492 0.87365127 0.00262533]\n",
            "for fractionOfComparisions: 0.18: [0.00499181 0.87539558 0.00250305]\n",
            "for fractionOfComparisions: 0.19: [0.00467915 0.88700988 0.00234579]\n",
            "for fractionOfComparisions: 0.2: [0.00455371 0.89394372 0.00228269]\n",
            "for fractionOfComparisions: 0.21: [0.0042045  0.88901832 0.00210725]\n",
            "for fractionOfComparisions: 0.22: [0.00419469 0.90295633 0.00210226]\n",
            "for fractionOfComparisions: 0.23: [0.00392965 0.90628187 0.00196911]\n",
            "for fractionOfComparisions: 0.24: [0.00372417 0.91276311 0.00186591]\n",
            "for fractionOfComparisions: 0.25: [0.00361187 0.89582586 0.00180959]\n",
            "for fractionOfComparisions: 0.26: [0.0034834  0.90678781 0.00174506]\n",
            "for fractionOfComparisions: 0.27: [0.00344046 0.88507445 0.00172359]\n",
            "for fractionOfComparisions: 0.28: [0.003219   0.90478359 0.00161238]\n",
            "for fractionOfComparisions: 0.29: [0.00309659 0.87228721 0.00155105]\n",
            "for fractionOfComparisions: 0.3: [0.0031348  0.90079365 0.00157013]\n",
            "for fractionOfComparisions: 0.31: [0.0029297  0.91461864 0.00146721]\n",
            "for fractionOfComparisions: 0.32: [0.00308671 0.93674454 0.00154592]\n",
            "for fractionOfComparisions: 0.33: [0.00304428 0.93700787 0.00152461]\n",
            "for fractionOfComparisions: 0.34: [0.0025654  0.91039627 0.00128451]\n",
            "for fractionOfComparisions: 0.37: [0.00243811 0.89211618 0.00122072]\n",
            "for fractionOfComparisions: 0.4: [0.00239947 0.93407558 0.00120128]\n",
            "for fractionOfComparisions: 0.51: [1.89503953e-03 9.82905983e-01 9.48434053e-04]\n",
            "for fractionOfComparisions: 0.53: [1.95459329e-03 1.00000000e+00 9.78252690e-04]\n",
            "for fractionOfComparisions: 0.54: [1.88528489e-03 9.90636171e-01 9.43541294e-04]\n",
            "for fractionOfComparisions: 0.55: [1.86330384e-03 9.91785853e-01 9.32531447e-04]\n",
            "for fractionOfComparisions: 0.56: [1.80444872e-03 9.93725238e-01 9.03047928e-04]\n",
            "for fractionOfComparisions: 0.57: [1.76396686e-03 9.84842737e-01 8.82776648e-04]\n",
            "for fractionOfComparisions: 0.58: [1.79567063e-03 9.95057058e-01 8.98647226e-04]\n",
            "for fractionOfComparisions: 0.59: [1.71548353e-03 9.89128245e-01 8.58488507e-04]\n",
            "for fractionOfComparisions: 0.6: [1.64527986e-03 9.86393176e-01 8.23328084e-04]\n",
            "for fractionOfComparisions: 0.61: [1.53619810e-03 9.93731398e-01 7.68694626e-04]\n",
            "for fractionOfComparisions: 0.62: [1.65426610e-03 9.94712000e-01 8.27822589e-04]\n",
            "for fractionOfComparisions: 0.63: [1.50902072e-03 9.91796997e-01 7.55086207e-04]\n",
            "for fractionOfComparisions: 0.64: [1.59052496e-03 9.90856803e-01 7.95904693e-04]\n",
            "for fractionOfComparisions: 0.65: [1.50055187e-03 9.96221197e-01 7.50843061e-04]\n",
            "for fractionOfComparisions: 0.66: [1.52478703e-03 9.88570415e-01 7.62982898e-04]\n",
            "for fractionOfComparisions: 0.67: [1.46841611e-03 9.92904556e-01 7.34753656e-04]\n",
            "for fractionOfComparisions: 0.68: [1.45865333e-03 9.93516020e-01 7.29864890e-04]\n",
            "for fractionOfComparisions: 0.69: [1.46618226e-03 9.93826794e-01 7.33634216e-04]\n",
            "for fractionOfComparisions: 0.7: [1.41196948e-03 9.97377236e-01 7.06487803e-04]\n",
            "for fractionOfComparisions: 0.71: [1.41067372e-03 9.92714900e-01 7.05840357e-04]\n",
            "for fractionOfComparisions: 0.72: [1.38680473e-03 9.92890628e-01 6.93887742e-04]\n",
            "for fractionOfComparisions: 0.73: [1.39673259e-03 9.95609578e-01 6.98857680e-04]\n",
            "for fractionOfComparisions: 0.74: [1.41280428e-03 9.98402117e-01 7.06904818e-04]\n",
            "for fractionOfComparisions: 0.75: [1.35765345e-03 9.95245424e-01 6.79291419e-04]\n",
            "for fractionOfComparisions: 0.76: [1.30786729e-03 9.99346405e-01 6.54363780e-04]\n",
            "for fractionOfComparisions: 0.77: [1.17401832e-03 1.00000000e+00 5.87353943e-04]\n",
            "for fractionOfComparisions: 0.78: [1.34425357e-03 9.97364954e-01 6.72580067e-04]\n",
            "for fractionOfComparisions: 0.79: [1.26915058e-03 1.00000000e+00 6.34978229e-04]\n",
            "for fractionOfComparisions: 0.8: [1.22647664e-03 9.97264037e-01 6.13617343e-04]\n",
            "for fractionOfComparisions: 0.81: [1.34650262e-03 1.00000000e+00 6.73704881e-04]\n",
            "for fractionOfComparisions: 0.82: [1.33914594e-03 1.00000000e+00 6.70021624e-04]\n",
            "for fractionOfComparisions: 0.86: [1.06979426e-03 1.00000000e+00 5.35183399e-04]\n",
            "for fractionOfComparisions: 0.91: [9.85848177e-04 1.00000000e+00 4.93167469e-04]\n",
            "for fractionOfComparisions: 0.92: [1.06642031e-03 1.00000000e+00 5.33495927e-04]\n",
            "for fractionOfComparisions: 0.93: [1.06336998e-03 1.00000000e+00 5.31968936e-04]\n",
            "for fractionOfComparisions: 0.94: [1.08165294e-03 1.00000000e+00 5.41121113e-04]\n",
            "for fractionOfComparisions: 0.95: [1.06865338e-03 1.00000000e+00 5.34613080e-04]\n"
          ]
        }
      ]
    },
    {
      "cell_type": "code",
      "source": [
        "np_graph_data = np.array(graph_data)"
      ],
      "metadata": {
        "id": "VM57p4myYcfw"
      },
      "execution_count": null,
      "outputs": []
    },
    {
      "cell_type": "code",
      "source": [
        "from matplotlib import pyplot as plt\n",
        "plt.rcParams['figure.figsize'] = [15, 10]\n",
        "plt.xticks(np.arange(0,1.01,0.05), fontsize=15)\n",
        "\n",
        "plt.yticks(np.arange(0,1.01,0.05),fontsize=15)\n",
        "plt.plot(xaxis, np_graph_data[:,1])\n",
        "plt.xlabel(\"Fraction of comparisons\", fontsize=18)\n",
        "plt.ylabel(\"Pair Completeness\",fontsize=18)\n"
      ],
      "metadata": {
        "colab": {
          "base_uri": "https://localhost:8080/",
          "height": 597
        },
        "id": "4eqZlv-oY3Zp",
        "outputId": "77546e28-3e12-46ab-f667-93b099551b83"
      },
      "execution_count": null,
      "outputs": [
        {
          "output_type": "execute_result",
          "data": {
            "text/plain": [
              "Text(0, 0.5, 'Pair Completeness')"
            ]
          },
          "metadata": {},
          "execution_count": 29
        },
        {
          "output_type": "display_data",
          "data": {
            "image/png": "[encoded data removed]",
            "text/plain": [
              "<Figure size 1080x720 with 1 Axes>"
            ]
          },
          "metadata": {
            "needs_background": "light"
          }
        }
      ]
    },
    {
      "cell_type": "code",
      "source": [
        "np.arange(0,1.01,0.01)"
      ],
      "metadata": {
        "colab": {
          "base_uri": "https://localhost:8080/"
        },
        "id": "z5JRDisX7N0I",
        "outputId": "db1a02f1-9037-4925-df68-ddf1ed6ffcbf"
      },
      "execution_count": null,
      "outputs": [
        {
          "output_type": "execute_result",
          "data": {
            "text/plain": [
              "array([0.  , 0.01, 0.02, 0.03, 0.04, 0.05, 0.06, 0.07, 0.08, 0.09, 0.1 ,\n",
              "       0.11, 0.12, 0.13, 0.14, 0.15, 0.16, 0.17, 0.18, 0.19, 0.2 , 0.21,\n",
              "       0.22, 0.23, 0.24, 0.25, 0.26, 0.27, 0.28, 0.29, 0.3 , 0.31, 0.32,\n",
              "       0.33, 0.34, 0.35, 0.36, 0.37, 0.38, 0.39, 0.4 , 0.41, 0.42, 0.43,\n",
              "       0.44, 0.45, 0.46, 0.47, 0.48, 0.49, 0.5 , 0.51, 0.52, 0.53, 0.54,\n",
              "       0.55, 0.56, 0.57, 0.58, 0.59, 0.6 , 0.61, 0.62, 0.63, 0.64, 0.65,\n",
              "       0.66, 0.67, 0.68, 0.69, 0.7 , 0.71, 0.72, 0.73, 0.74, 0.75, 0.76,\n",
              "       0.77, 0.78, 0.79, 0.8 , 0.81, 0.82, 0.83, 0.84, 0.85, 0.86, 0.87,\n",
              "       0.88, 0.89, 0.9 , 0.91, 0.92, 0.93, 0.94, 0.95, 0.96, 0.97, 0.98,\n",
              "       0.99, 1.  ])"
            ]
          },
          "metadata": {},
          "execution_count": 8
        }
      ]
    }
  ]
}